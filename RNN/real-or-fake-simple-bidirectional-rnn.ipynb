{
 "cells": [
  {
   "cell_type": "code",
   "execution_count": 1,
   "id": "9c876ebb",
   "metadata": {
    "_cell_guid": "b1076dfc-b9ad-4769-8c92-a6c4dae69d19",
    "_uuid": "8f2839f25d086af736a60e9eeb907d3b93b6e0e5",
    "execution": {
     "iopub.execute_input": "2022-11-14T01:14:02.491362Z",
     "iopub.status.busy": "2022-11-14T01:14:02.490342Z",
     "iopub.status.idle": "2022-11-14T01:14:15.539437Z",
     "shell.execute_reply": "2022-11-14T01:14:15.538206Z"
    },
    "papermill": {
     "duration": 13.061561,
     "end_time": "2022-11-14T01:14:15.542555",
     "exception": false,
     "start_time": "2022-11-14T01:14:02.480994",
     "status": "completed"
    },
    "tags": []
   },
   "outputs": [],
   "source": [
    "# standard\n",
    "import numpy as np # linear algebra\n",
    "import pandas as pd # data processing, CSV file I/O (e.g. pd.read_csv)\n",
    "import warnings \n",
    "warnings.simplefilter('ignore')\n",
    "import gc\n",
    "\n",
    "# visualisation\n",
    "import matplotlib.pyplot as plt\n",
    "import seaborn as sns\n",
    "\n",
    "# tensorflow/keras\n",
    "from tensorflow import keras as kr\n",
    "from tqdm.keras import TqdmCallback\n",
    "\n",
    "# sklearn\n",
    "from sklearn.model_selection import train_test_split\n",
    "from sklearn.metrics import classification_report, accuracy_score"
   ]
  },
  {
   "cell_type": "markdown",
   "id": "f1e8933b",
   "metadata": {
    "papermill": {
     "duration": 0.005222,
     "end_time": "2022-11-14T01:14:15.553637",
     "exception": false,
     "start_time": "2022-11-14T01:14:15.548415",
     "status": "completed"
    },
    "tags": []
   },
   "source": [
    "# Load Data"
   ]
  },
  {
   "cell_type": "code",
   "execution_count": 2,
   "id": "15dc5971",
   "metadata": {
    "execution": {
     "iopub.execute_input": "2022-11-14T01:14:15.566528Z",
     "iopub.status.busy": "2022-11-14T01:14:15.565806Z",
     "iopub.status.idle": "2022-11-14T01:14:15.771395Z",
     "shell.execute_reply": "2022-11-14T01:14:15.770103Z"
    },
    "papermill": {
     "duration": 0.215432,
     "end_time": "2022-11-14T01:14:15.774401",
     "exception": false,
     "start_time": "2022-11-14T01:14:15.558969",
     "status": "completed"
    },
    "tags": []
   },
   "outputs": [
    {
     "name": "stdout",
     "output_type": "stream",
     "text": [
      "Found 23196 news...\n"
     ]
    }
   ],
   "source": [
    "# load data\n",
    "file = '../input/fake-news/FakeNewsNet.csv'\n",
    "wanted_cols = ['title','real']\n",
    "df = pd.read_csv(file, usecols=wanted_cols)\n",
    "\n",
    "# drop NULLs (if any) & reset index\n",
    "df.dropna(inplace=True)\n",
    "df.reset_index(drop=True, inplace=True)\n",
    "\n",
    "# adding a new column [word count]\n",
    "df['wcount'] = df['title'].apply(lambda x: len(x.split(' ')))\n",
    "\n",
    "# view\n",
    "print(f\"Found {df.shape[0]} news...\")"
   ]
  },
  {
   "cell_type": "markdown",
   "id": "2c17ce61",
   "metadata": {
    "papermill": {
     "duration": 0.009277,
     "end_time": "2022-11-14T01:14:15.789562",
     "exception": false,
     "start_time": "2022-11-14T01:14:15.780285",
     "status": "completed"
    },
    "tags": []
   },
   "source": [
    "# Basic EDA"
   ]
  },
  {
   "cell_type": "code",
   "execution_count": 3,
   "id": "0cacb10c",
   "metadata": {
    "_kg_hide-input": true,
    "execution": {
     "iopub.execute_input": "2022-11-14T01:14:15.802814Z",
     "iopub.status.busy": "2022-11-14T01:14:15.802412Z",
     "iopub.status.idle": "2022-11-14T01:14:16.185607Z",
     "shell.execute_reply": "2022-11-14T01:14:16.184347Z"
    },
    "papermill": {
     "duration": 0.393223,
     "end_time": "2022-11-14T01:14:16.188548",
     "exception": false,
     "start_time": "2022-11-14T01:14:15.795325",
     "status": "completed"
    },
    "tags": []
   },
   "outputs": [
    {
     "data": {
      "text/plain": [
       "<seaborn.axisgrid.FacetGrid at 0x7fd3f2b95790>"
      ]
     },
     "execution_count": 3,
     "metadata": {},
     "output_type": "execute_result"
    },
    {
     "data": {
      "image/png": "[encoded data removed]",
      "text/plain": [
       "<Figure size 360x360 with 1 Axes>"
      ]
     },
     "metadata": {
      "needs_background": "light"
     },
     "output_type": "display_data"
    }
   ],
   "source": [
    "# basic EDA - count of fake & real\n",
    "count = []\n",
    "for i in df['real'].unique():\n",
    "    count.append(df[df['real'] == i].count()[1])\n",
    "    \n",
    "# Draw a nested barplot by species and sex\n",
    "g = sns.catplot(\n",
    "    data=df, kind=\"bar\",\n",
    "    x=df['real'].unique(), y=count,alpha=.6,\n",
    "    palette=\"dark\")\n",
    "\n",
    "#g.despine(left=True)\n",
    "g.set_axis_labels(\"\", \"count\")"
   ]
  },
  {
   "cell_type": "markdown",
   "id": "cf0526e1",
   "metadata": {
    "papermill": {
     "duration": 0.005902,
     "end_time": "2022-11-14T01:14:16.200720",
     "exception": false,
     "start_time": "2022-11-14T01:14:16.194818",
     "status": "completed"
    },
    "tags": []
   },
   "source": [
    "# Feature Engineering"
   ]
  },
  {
   "cell_type": "code",
   "execution_count": 4,
   "id": "c217571e",
   "metadata": {
    "execution": {
     "iopub.execute_input": "2022-11-14T01:14:16.217028Z",
     "iopub.status.busy": "2022-11-14T01:14:16.214830Z",
     "iopub.status.idle": "2022-11-14T01:14:16.228274Z",
     "shell.execute_reply": "2022-11-14T01:14:16.226969Z"
    },
    "papermill": {
     "duration": 0.023717,
     "end_time": "2022-11-14T01:14:16.230805",
     "exception": false,
     "start_time": "2022-11-14T01:14:16.207088",
     "status": "completed"
    },
    "tags": []
   },
   "outputs": [
    {
     "name": "stdout",
     "output_type": "stream",
     "text": [
      "Training records: 18556 | Testing records: 4640\n"
     ]
    }
   ],
   "source": [
    "# feature engineering & training split\n",
    "x = df['title'].values   # feature\n",
    "y = df['real'].values    # target \n",
    "\n",
    "# train & validation split [80-20]\n",
    "x_train, x_test, y_train, y_test = train_test_split(x, y, test_size=0.20, random_state= np.random.randint(10))\n",
    "\n",
    "# view\n",
    "print(f\"Training records: {x_train.shape[0]} | Testing records: {x_test.shape[0]}\")"
   ]
  },
  {
   "cell_type": "markdown",
   "id": "d4ac5169",
   "metadata": {
    "papermill": {
     "duration": 0.00737,
     "end_time": "2022-11-14T01:14:16.244327",
     "exception": false,
     "start_time": "2022-11-14T01:14:16.236957",
     "status": "completed"
    },
    "tags": []
   },
   "source": [
    "# Text Pre-Processing"
   ]
  },
  {
   "cell_type": "code",
   "execution_count": 5,
   "id": "c61321c5",
   "metadata": {
    "execution": {
     "iopub.execute_input": "2022-11-14T01:14:16.258552Z",
     "iopub.status.busy": "2022-11-14T01:14:16.257597Z",
     "iopub.status.idle": "2022-11-14T01:14:17.535357Z",
     "shell.execute_reply": "2022-11-14T01:14:17.534184Z"
    },
    "papermill": {
     "duration": 1.288132,
     "end_time": "2022-11-14T01:14:17.538404",
     "exception": false,
     "start_time": "2022-11-14T01:14:16.250272",
     "status": "completed"
    },
    "tags": []
   },
   "outputs": [],
   "source": [
    "# text pre-processing\n",
    "tok = kr.preprocessing.text.Tokenizer(num_words=None,\n",
    "                                      filters='!\"#$%&()*+,-./:;<=>?@[\\\\]^_`{|}~\\t\\n',\n",
    "                                      lower=True,\n",
    "                                      split=' ',\n",
    "                                      char_level=False,\n",
    "                                      oov_token=None)\n",
    "\n",
    "# fit \n",
    "tok.fit_on_texts(x_train)"
   ]
  },
  {
   "cell_type": "markdown",
   "id": "3cf052a5",
   "metadata": {
    "papermill": {
     "duration": 0.005731,
     "end_time": "2022-11-14T01:14:17.550312",
     "exception": false,
     "start_time": "2022-11-14T01:14:17.544581",
     "status": "completed"
    },
    "tags": []
   },
   "source": [
    "# Text Tokenisation"
   ]
  },
  {
   "cell_type": "code",
   "execution_count": 6,
   "id": "73d531a7",
   "metadata": {
    "execution": {
     "iopub.execute_input": "2022-11-14T01:14:17.564216Z",
     "iopub.status.busy": "2022-11-14T01:14:17.563824Z",
     "iopub.status.idle": "2022-11-14T01:14:17.957714Z",
     "shell.execute_reply": "2022-11-14T01:14:17.956480Z"
    },
    "papermill": {
     "duration": 0.404312,
     "end_time": "2022-11-14T01:14:17.960721",
     "exception": false,
     "start_time": "2022-11-14T01:14:17.556409",
     "status": "completed"
    },
    "tags": []
   },
   "outputs": [],
   "source": [
    "# tokenized text data\n",
    "tok_train = tok.texts_to_sequences(x_train)\n",
    "tok_test = tok.texts_to_sequences(x_test)"
   ]
  },
  {
   "cell_type": "markdown",
   "id": "e15a9fbf",
   "metadata": {
    "papermill": {
     "duration": 0.005831,
     "end_time": "2022-11-14T01:14:17.972679",
     "exception": false,
     "start_time": "2022-11-14T01:14:17.966848",
     "status": "completed"
    },
    "tags": []
   },
   "source": [
    "# Pad Sequences"
   ]
  },
  {
   "cell_type": "code",
   "execution_count": 7,
   "id": "b34162c2",
   "metadata": {
    "execution": {
     "iopub.execute_input": "2022-11-14T01:14:17.986695Z",
     "iopub.status.busy": "2022-11-14T01:14:17.986298Z",
     "iopub.status.idle": "2022-11-14T01:14:18.066205Z",
     "shell.execute_reply": "2022-11-14T01:14:18.065113Z"
    },
    "papermill": {
     "duration": 0.090395,
     "end_time": "2022-11-14T01:14:18.069121",
     "exception": false,
     "start_time": "2022-11-14T01:14:17.978726",
     "status": "completed"
    },
    "tags": []
   },
   "outputs": [],
   "source": [
    "# padding the sequence\n",
    "max_length = int(df.wcount.quantile(0.75))   # taking the 75th percentile of word count\n",
    "padded_train = kr.preprocessing.sequence.pad_sequences(tok_train, maxlen=max_length, padding='post')\n",
    "padded_test = kr.preprocessing.sequence.pad_sequences(tok_test, maxlen=max_length, padding='post')"
   ]
  },
  {
   "cell_type": "markdown",
   "id": "4126f466",
   "metadata": {
    "papermill": {
     "duration": 0.00575,
     "end_time": "2022-11-14T01:14:18.080966",
     "exception": false,
     "start_time": "2022-11-14T01:14:18.075216",
     "status": "completed"
    },
    "tags": []
   },
   "source": [
    "# Simple RNN Model"
   ]
  },
  {
   "cell_type": "code",
   "execution_count": 8,
   "id": "dc38cfb9",
   "metadata": {
    "execution": {
     "iopub.execute_input": "2022-11-14T01:14:18.094908Z",
     "iopub.status.busy": "2022-11-14T01:14:18.094473Z",
     "iopub.status.idle": "2022-11-14T01:14:24.453183Z",
     "shell.execute_reply": "2022-11-14T01:14:24.452043Z"
    },
    "papermill": {
     "duration": 6.368745,
     "end_time": "2022-11-14T01:14:24.455675",
     "exception": false,
     "start_time": "2022-11-14T01:14:18.086930",
     "status": "completed"
    },
    "tags": []
   },
   "outputs": [
    {
     "name": "stderr",
     "output_type": "stream",
     "text": [
      "2022-11-14 01:14:18.261598: I tensorflow/stream_executor/cuda/cuda_gpu_executor.cc:937] successful NUMA node read from SysFS had negative value (-1), but there must be at least one NUMA node, so returning NUMA node zero\n",
      "2022-11-14 01:14:18.262802: I tensorflow/stream_executor/cuda/cuda_gpu_executor.cc:937] successful NUMA node read from SysFS had negative value (-1), but there must be at least one NUMA node, so returning NUMA node zero\n",
      "2022-11-14 01:14:18.594083: I tensorflow/stream_executor/cuda/cuda_gpu_executor.cc:937] successful NUMA node read from SysFS had negative value (-1), but there must be at least one NUMA node, so returning NUMA node zero\n",
      "2022-11-14 01:14:18.595193: I tensorflow/stream_executor/cuda/cuda_gpu_executor.cc:937] successful NUMA node read from SysFS had negative value (-1), but there must be at least one NUMA node, so returning NUMA node zero\n",
      "2022-11-14 01:14:18.596133: I tensorflow/stream_executor/cuda/cuda_gpu_executor.cc:937] successful NUMA node read from SysFS had negative value (-1), but there must be at least one NUMA node, so returning NUMA node zero\n",
      "2022-11-14 01:14:18.596991: I tensorflow/stream_executor/cuda/cuda_gpu_executor.cc:937] successful NUMA node read from SysFS had negative value (-1), but there must be at least one NUMA node, so returning NUMA node zero\n",
      "2022-11-14 01:14:18.599024: I tensorflow/core/platform/cpu_feature_guard.cc:142] This TensorFlow binary is optimized with oneAPI Deep Neural Network Library (oneDNN) to use the following CPU instructions in performance-critical operations:  AVX2 AVX512F FMA\n",
      "To enable them in other operations, rebuild TensorFlow with the appropriate compiler flags.\n",
      "2022-11-14 01:14:18.883800: I tensorflow/stream_executor/cuda/cuda_gpu_executor.cc:937] successful NUMA node read from SysFS had negative value (-1), but there must be at least one NUMA node, so returning NUMA node zero\n",
      "2022-11-14 01:14:18.884981: I tensorflow/stream_executor/cuda/cuda_gpu_executor.cc:937] successful NUMA node read from SysFS had negative value (-1), but there must be at least one NUMA node, so returning NUMA node zero\n",
      "2022-11-14 01:14:18.886077: I tensorflow/stream_executor/cuda/cuda_gpu_executor.cc:937] successful NUMA node read from SysFS had negative value (-1), but there must be at least one NUMA node, so returning NUMA node zero\n",
      "2022-11-14 01:14:18.887018: I tensorflow/stream_executor/cuda/cuda_gpu_executor.cc:937] successful NUMA node read from SysFS had negative value (-1), but there must be at least one NUMA node, so returning NUMA node zero\n",
      "2022-11-14 01:14:18.887840: I tensorflow/stream_executor/cuda/cuda_gpu_executor.cc:937] successful NUMA node read from SysFS had negative value (-1), but there must be at least one NUMA node, so returning NUMA node zero\n",
      "2022-11-14 01:14:18.888773: I tensorflow/stream_executor/cuda/cuda_gpu_executor.cc:937] successful NUMA node read from SysFS had negative value (-1), but there must be at least one NUMA node, so returning NUMA node zero\n",
      "2022-11-14 01:14:23.860193: I tensorflow/stream_executor/cuda/cuda_gpu_executor.cc:937] successful NUMA node read from SysFS had negative value (-1), but there must be at least one NUMA node, so returning NUMA node zero\n",
      "2022-11-14 01:14:23.861272: I tensorflow/stream_executor/cuda/cuda_gpu_executor.cc:937] successful NUMA node read from SysFS had negative value (-1), but there must be at least one NUMA node, so returning NUMA node zero\n",
      "2022-11-14 01:14:23.862152: I tensorflow/stream_executor/cuda/cuda_gpu_executor.cc:937] successful NUMA node read from SysFS had negative value (-1), but there must be at least one NUMA node, so returning NUMA node zero\n",
      "2022-11-14 01:14:23.862984: I tensorflow/stream_executor/cuda/cuda_gpu_executor.cc:937] successful NUMA node read from SysFS had negative value (-1), but there must be at least one NUMA node, so returning NUMA node zero\n",
      "2022-11-14 01:14:23.863776: I tensorflow/stream_executor/cuda/cuda_gpu_executor.cc:937] successful NUMA node read from SysFS had negative value (-1), but there must be at least one NUMA node, so returning NUMA node zero\n",
      "2022-11-14 01:14:23.864543: I tensorflow/core/common_runtime/gpu/gpu_device.cc:1510] Created device /job:localhost/replica:0/task:0/device:GPU:0 with 13789 MB memory:  -> device: 0, name: Tesla T4, pci bus id: 0000:00:04.0, compute capability: 7.5\n",
      "2022-11-14 01:14:23.870550: I tensorflow/stream_executor/cuda/cuda_gpu_executor.cc:937] successful NUMA node read from SysFS had negative value (-1), but there must be at least one NUMA node, so returning NUMA node zero\n",
      "2022-11-14 01:14:23.871427: I tensorflow/core/common_runtime/gpu/gpu_device.cc:1510] Created device /job:localhost/replica:0/task:0/device:GPU:1 with 13789 MB memory:  -> device: 1, name: Tesla T4, pci bus id: 0000:00:05.0, compute capability: 7.5\n"
     ]
    },
    {
     "name": "stdout",
     "output_type": "stream",
     "text": [
      "Model: \"FakeNewsCatcher\"\n",
      "_________________________________________________________________\n",
      "Layer (type)                 Output Shape              Param #   \n",
      "=================================================================\n",
      "embedding (Embedding)        (None, 14, 32)            697824    \n",
      "_________________________________________________________________\n",
      "simple_rnn (SimpleRNN)       (None, 32)                2080      \n",
      "_________________________________________________________________\n",
      "dense (Dense)                (None, 1)                 33        \n",
      "=================================================================\n",
      "Total params: 699,937\n",
      "Trainable params: 699,937\n",
      "Non-trainable params: 0\n",
      "_________________________________________________________________\n"
     ]
    }
   ],
   "source": [
    "# model params\n",
    "vocab_size = len(tok.word_index) + 1\n",
    "epoch = 10\n",
    "unit = 32\n",
    "\n",
    "# define model\n",
    "model = kr.models.Sequential(name='FakeNewsCatcher')\n",
    "model.add(kr.layers.Embedding(vocab_size, unit, input_length=max_length))\n",
    "model.add(kr.layers.SimpleRNN(unit, return_sequences=False))\n",
    "model.add(kr.layers.Dense(1, activation='sigmoid'))\n",
    "\n",
    "# compile\n",
    "model.compile(optimizer='rmsprop', loss='binary_crossentropy', metrics=['accuracy'])\n",
    "\n",
    "# summary\n",
    "model.summary()"
   ]
  },
  {
   "cell_type": "markdown",
   "id": "a0d8ea99",
   "metadata": {
    "papermill": {
     "duration": 0.00595,
     "end_time": "2022-11-14T01:14:24.467932",
     "exception": false,
     "start_time": "2022-11-14T01:14:24.461982",
     "status": "completed"
    },
    "tags": []
   },
   "source": []
  },
  {
   "cell_type": "code",
   "execution_count": 9,
   "id": "7081f06e",
   "metadata": {
    "execution": {
     "iopub.execute_input": "2022-11-14T01:14:24.483775Z",
     "iopub.status.busy": "2022-11-14T01:14:24.481715Z",
     "iopub.status.idle": "2022-11-14T01:15:53.138369Z",
     "shell.execute_reply": "2022-11-14T01:15:53.137158Z"
    },
    "papermill": {
     "duration": 88.666645,
     "end_time": "2022-11-14T01:15:53.140835",
     "exception": false,
     "start_time": "2022-11-14T01:14:24.474190",
     "status": "completed"
    },
    "tags": []
   },
   "outputs": [
    {
     "data": {
      "application/vnd.jupyter.widget-view+json": {
       "model_id": "854d2147b56048ed88a99cdf600b7559",
       "version_major": 2,
       "version_minor": 0
      },
      "text/plain": [
       "0epoch [00:00, ?epoch/s]"
      ]
     },
     "metadata": {},
     "output_type": "display_data"
    },
    {
     "name": "stderr",
     "output_type": "stream",
     "text": [
      "2022-11-14 01:14:24.799879: I tensorflow/compiler/mlir/mlir_graph_optimization_pass.cc:185] None of the MLIR Optimization Passes are enabled (registered 2)\n"
     ]
    }
   ],
   "source": [
    "# training params\n",
    "es = kr.callbacks.EarlyStopping(monitor='val_loss', mode='min',verbose=0, patience=5)\n",
    "\n",
    "# for re-runs\n",
    "gc.collect()\n",
    "kr.backend.clear_session()\n",
    "\n",
    "# train model\n",
    "hist = model.fit(x=padded_train,\n",
    "                 y=y_train,\n",
    "                 epochs=epoch,\n",
    "                 shuffle=True,\n",
    "                 validation_data=(padded_test,y_test),\n",
    "                 verbose=0,\n",
    "                 callbacks=[TqdmCallback(verbose=0),es])"
   ]
  },
  {
   "cell_type": "code",
   "execution_count": 10,
   "id": "38a43839",
   "metadata": {
    "execution": {
     "iopub.execute_input": "2022-11-14T01:15:53.156059Z",
     "iopub.status.busy": "2022-11-14T01:15:53.155615Z",
     "iopub.status.idle": "2022-11-14T01:15:53.165327Z",
     "shell.execute_reply": "2022-11-14T01:15:53.163925Z"
    },
    "papermill": {
     "duration": 0.020934,
     "end_time": "2022-11-14T01:15:53.168635",
     "exception": false,
     "start_time": "2022-11-14T01:15:53.147701",
     "status": "completed"
    },
    "tags": []
   },
   "outputs": [
    {
     "name": "stdout",
     "output_type": "stream",
     "text": [
      "Our model has achieved an accuracy of 96.71% in 6 epoch(s)\n"
     ]
    }
   ],
   "source": [
    "# accuracy\n",
    "acc = '{:.2%}'.format(hist.history['accuracy'][-1])\n",
    "print(f\"Our model has achieved an accuracy of {acc} in {hist.epoch[-1]} epoch(s)\")"
   ]
  },
  {
   "cell_type": "code",
   "execution_count": 11,
   "id": "7440edbf",
   "metadata": {
    "execution": {
     "iopub.execute_input": "2022-11-14T01:15:53.183695Z",
     "iopub.status.busy": "2022-11-14T01:15:53.183299Z",
     "iopub.status.idle": "2022-11-14T01:15:53.708992Z",
     "shell.execute_reply": "2022-11-14T01:15:53.706283Z"
    },
    "papermill": {
     "duration": 0.536419,
     "end_time": "2022-11-14T01:15:53.711813",
     "exception": false,
     "start_time": "2022-11-14T01:15:53.175394",
     "status": "completed"
    },
    "tags": []
   },
   "outputs": [
    {
     "name": "stdout",
     "output_type": "stream",
     "text": [
      "              precision    recall  f1-score   support\n",
      "\n",
      "           0       0.61      0.60      0.60      1180\n",
      "           1       0.86      0.87      0.87      3460\n",
      "\n",
      "    accuracy                           0.80      4640\n",
      "   macro avg       0.74      0.73      0.73      4640\n",
      "weighted avg       0.80      0.80      0.80      4640\n",
      "\n",
      "\n",
      "Accuracy Score: 79.91%\n"
     ]
    }
   ],
   "source": [
    "# predictions\n",
    "pred = (model.predict(padded_test) > 0.5).astype('int32')\n",
    "# classification report\n",
    "print(classification_report(y_test, pred))\n",
    "# accuracy score\n",
    "acc_score = '{:.2%}'.format(accuracy_score(y_test, pred))\n",
    "print(f\"\\nAccuracy Score: {acc_score}\")"
   ]
  },
  {
   "cell_type": "markdown",
   "id": "0abafff3",
   "metadata": {
    "papermill": {
     "duration": 0.006529,
     "end_time": "2022-11-14T01:15:53.725705",
     "exception": false,
     "start_time": "2022-11-14T01:15:53.719176",
     "status": "completed"
    },
    "tags": []
   },
   "source": [
    "# Bi-directional (simple) RNN"
   ]
  },
  {
   "cell_type": "code",
   "execution_count": 12,
   "id": "70b611f1",
   "metadata": {
    "execution": {
     "iopub.execute_input": "2022-11-14T01:15:53.741504Z",
     "iopub.status.busy": "2022-11-14T01:15:53.740350Z",
     "iopub.status.idle": "2022-11-14T01:15:53.897297Z",
     "shell.execute_reply": "2022-11-14T01:15:53.895210Z"
    },
    "papermill": {
     "duration": 0.16833,
     "end_time": "2022-11-14T01:15:53.900649",
     "exception": false,
     "start_time": "2022-11-14T01:15:53.732319",
     "status": "completed"
    },
    "tags": []
   },
   "outputs": [
    {
     "name": "stdout",
     "output_type": "stream",
     "text": [
      "Model: \"FakeNewsCatcher2\"\n",
      "_________________________________________________________________\n",
      "Layer (type)                 Output Shape              Param #   \n",
      "=================================================================\n",
      "embedding (Embedding)        (None, 14, 32)            697824    \n",
      "_________________________________________________________________\n",
      "bidirectional (Bidirectional (None, 64)                4160      \n",
      "_________________________________________________________________\n",
      "dense (Dense)                (None, 32)                2080      \n",
      "_________________________________________________________________\n",
      "dense_1 (Dense)              (None, 1)                 33        \n",
      "=================================================================\n",
      "Total params: 704,097\n",
      "Trainable params: 704,097\n",
      "Non-trainable params: 0\n",
      "_________________________________________________________________\n"
     ]
    }
   ],
   "source": [
    "model2 = kr.models.Sequential(name='FakeNewsCatcher2')\n",
    "model2.add(kr.layers.Embedding(vocab_size, unit, input_length=max_length))\n",
    "model2.add(kr.layers.Bidirectional(kr.layers.SimpleRNN(unit)))\n",
    "model2.add(kr.layers.Dense(unit, activation='relu'))\n",
    "model2.add(kr.layers.Dense(1, activation='sigmoid'))\n",
    "\n",
    "# compile\n",
    "model2.compile(optimizer='rmsprop', loss='binary_crossentropy', metrics=['accuracy'])\n",
    "\n",
    "# summary\n",
    "model2.summary()"
   ]
  },
  {
   "cell_type": "code",
   "execution_count": 13,
   "id": "d04e7a6b",
   "metadata": {
    "execution": {
     "iopub.execute_input": "2022-11-14T01:15:53.916827Z",
     "iopub.status.busy": "2022-11-14T01:15:53.916399Z",
     "iopub.status.idle": "2022-11-14T01:18:31.878481Z",
     "shell.execute_reply": "2022-11-14T01:18:31.877235Z"
    },
    "papermill": {
     "duration": 157.974105,
     "end_time": "2022-11-14T01:18:31.882114",
     "exception": false,
     "start_time": "2022-11-14T01:15:53.908009",
     "status": "completed"
    },
    "tags": []
   },
   "outputs": [
    {
     "data": {
      "application/vnd.jupyter.widget-view+json": {
       "model_id": "52bc444b3b8a480182bfcfa0abeed552",
       "version_major": 2,
       "version_minor": 0
      },
      "text/plain": [
       "0epoch [00:00, ?epoch/s]"
      ]
     },
     "metadata": {},
     "output_type": "display_data"
    }
   ],
   "source": [
    "# for re-runs\n",
    "gc.collect()\n",
    "kr.backend.clear_session()\n",
    "\n",
    "# train model\n",
    "hist2 = model2.fit(x=padded_train,\n",
    "                 y=y_train,\n",
    "                 epochs=epoch,\n",
    "                 shuffle=True,\n",
    "                 validation_data=(padded_test,y_test),\n",
    "                 verbose=0,\n",
    "                 callbacks=[TqdmCallback(verbose=0),es])"
   ]
  },
  {
   "cell_type": "code",
   "execution_count": 14,
   "id": "22f52b6b",
   "metadata": {
    "execution": {
     "iopub.execute_input": "2022-11-14T01:18:31.898155Z",
     "iopub.status.busy": "2022-11-14T01:18:31.897025Z",
     "iopub.status.idle": "2022-11-14T01:18:31.904115Z",
     "shell.execute_reply": "2022-11-14T01:18:31.902847Z"
    },
    "papermill": {
     "duration": 0.018925,
     "end_time": "2022-11-14T01:18:31.907954",
     "exception": false,
     "start_time": "2022-11-14T01:18:31.889029",
     "status": "completed"
    },
    "tags": []
   },
   "outputs": [
    {
     "name": "stdout",
     "output_type": "stream",
     "text": [
      "Our model has achieved an accuracy of 97.33% in 6 epoch(s)\n"
     ]
    }
   ],
   "source": [
    "# accuracy\n",
    "acc2 = '{:.2%}'.format(hist2.history['accuracy'][-1])\n",
    "print(f\"Our model has achieved an accuracy of {acc2} in {hist2.epoch[-1]} epoch(s)\")"
   ]
  },
  {
   "cell_type": "code",
   "execution_count": 15,
   "id": "9628b186",
   "metadata": {
    "execution": {
     "iopub.execute_input": "2022-11-14T01:18:31.923659Z",
     "iopub.status.busy": "2022-11-14T01:18:31.923214Z",
     "iopub.status.idle": "2022-11-14T01:18:32.686155Z",
     "shell.execute_reply": "2022-11-14T01:18:32.683947Z"
    },
    "papermill": {
     "duration": 0.774062,
     "end_time": "2022-11-14T01:18:32.688984",
     "exception": false,
     "start_time": "2022-11-14T01:18:31.914922",
     "status": "completed"
    },
    "tags": []
   },
   "outputs": [
    {
     "name": "stdout",
     "output_type": "stream",
     "text": [
      "              precision    recall  f1-score   support\n",
      "\n",
      "           0       0.49      0.60      0.54      1180\n",
      "           1       0.85      0.79      0.82      3460\n",
      "\n",
      "    accuracy                           0.74      4640\n",
      "   macro avg       0.67      0.69      0.68      4640\n",
      "weighted avg       0.76      0.74      0.75      4640\n",
      "\n",
      "\n",
      "Accuracy Score: 74.03%\n"
     ]
    }
   ],
   "source": [
    "# predictions\n",
    "pred2 = (model2.predict(padded_test) > 0.5).astype('int32')\n",
    "# classification report\n",
    "print(classification_report(y_test, pred2))\n",
    "# accuracy score\n",
    "acc_score2 = '{:.2%}'.format(accuracy_score(y_test, pred2))\n",
    "print(f\"\\nAccuracy Score: {acc_score2}\")"
   ]
  }
 ],
 "metadata": {
  "kernelspec": {
   "display_name": "Python 3",
   "language": "python",
   "name": "python3"
  },
  "language_info": {
   "codemirror_mode": {
    "name": "ipython",
    "version": 3
   },
   "file_extension": ".py",
   "mimetype": "text/x-python",
   "name": "python",
   "nbconvert_exporter": "python",
   "pygments_lexer": "ipython3",
   "version": "3.7.12"
  },
  "papermill": {
   "default_parameters": {},
   "duration": 286.532717,
   "end_time": "2022-11-14T01:18:36.402698",
   "environment_variables": {},
   "exception": null,
   "input_path": "__notebook__.ipynb",
   "output_path": "__notebook__.ipynb",
   "parameters": {},
   "start_time": "2022-11-14T01:13:49.869981",
   "version": "2.3.4"
  },
  "widgets": {
   "application/vnd.jupyter.widget-state+json": {
    "state": {
     "19a602b9e42f49148d6b7998f0bfd17c": {
      "model_module": "@jupyter-widgets/controls",
      "model_module_version": "1.5.0",
      "model_name": "HTMLModel",
      "state": {
       "_dom_classes": [],
       "_model_module": "@jupyter-widgets/controls",
       "_model_module_version": "1.5.0",
       "_model_name": "HTMLModel",
       "_view_count": null,
       "_view_module": "@jupyter-widgets/controls",
       "_view_module_version": "1.5.0",
       "_view_name": "HTMLView",
       "description": "",
       "description_tooltip": null,
       "layout": "IPY_MODEL_33cb95f44b97446ea498f4d534d98b67",
       "placeholder": "​",
       "style": "IPY_MODEL_891a74bb093049b8b917501df83b68e0",
       "value": " 7/10 [01:28&lt;00:36, 12.30s/epoch, loss=0.0909, accuracy=0.967, val_loss=0.577, val_accuracy=0.799]"
      }
     },
     "33cb95f44b97446ea498f4d534d98b67": {
      "model_module": "@jupyter-widgets/base",
      "model_module_version": "1.2.0",
      "model_name": "LayoutModel",
      "state": {
       "_model_module": "@jupyter-widgets/base",
       "_model_module_version": "1.2.0",
       "_model_name": "LayoutModel",
       "_view_count": null,
       "_view_module": "@jupyter-widgets/base",
       "_view_module_version": "1.2.0",
       "_view_name": "LayoutView",
       "align_content": null,
       "align_items": null,
       "align_self": null,
       "border": null,
       "bottom": null,
       "display": null,
       "flex": null,
       "flex_flow": null,
       "grid_area": null,
       "grid_auto_columns": null,
       "grid_auto_flow": null,
       "grid_auto_rows": null,
       "grid_column": null,
       "grid_gap": null,
       "grid_row": null,
       "grid_template_areas": null,
       "grid_template_columns": null,
       "grid_template_rows": null,
       "height": null,
       "justify_content": null,
       "justify_items": null,
       "left": null,
       "margin": null,
       "max_height": null,
       "max_width": null,
       "min_height": null,
       "min_width": null,
       "object_fit": null,
       "object_position": null,
       "order": null,
       "overflow": null,
       "overflow_x": null,
       "overflow_y": null,
       "padding": null,
       "right": null,
       "top": null,
       "visibility": null,
       "width": null
      }
     },
     "377156b3a5f44489853b2dbd8324a1e8": {
      "model_module": "@jupyter-widgets/base",
      "model_module_version": "1.2.0",
      "model_name": "LayoutModel",
      "state": {
       "_model_module": "@jupyter-widgets/base",
       "_model_module_version": "1.2.0",
       "_model_name": "LayoutModel",
       "_view_count": null,
       "_view_module": "@jupyter-widgets/base",
       "_view_module_version": "1.2.0",
       "_view_name": "LayoutView",
       "align_content": null,
       "align_items": null,
       "align_self": null,
       "border": null,
       "bottom": null,
       "display": null,
       "flex": null,
       "flex_flow": null,
       "grid_area": null,
       "grid_auto_columns": null,
       "grid_auto_flow": null,
       "grid_auto_rows": null,
       "grid_column": null,
       "grid_gap": null,
       "grid_row": null,
       "grid_template_areas": null,
       "grid_template_columns": null,
       "grid_template_rows": null,
       "height": null,
       "justify_content": null,
       "justify_items": null,
       "left": null,
       "margin": null,
       "max_height": null,
       "max_width": null,
       "min_height": null,
       "min_width": null,
       "object_fit": null,
       "object_position": null,
       "order": null,
       "overflow": null,
       "overflow_x": null,
       "overflow_y": null,
       "padding": null,
       "right": null,
       "top": null,
       "visibility": null,
       "width": null
      }
     },
     "52bc444b3b8a480182bfcfa0abeed552": {
      "model_module": "@jupyter-widgets/controls",
      "model_module_version": "1.5.0",
      "model_name": "HBoxModel",
      "state": {
       "_dom_classes": [],
       "_model_module": "@jupyter-widgets/controls",
       "_model_module_version": "1.5.0",
       "_model_name": "HBoxModel",
       "_view_count": null,
       "_view_module": "@jupyter-widgets/controls",
       "_view_module_version": "1.5.0",
       "_view_name": "HBoxView",
       "box_style": "",
       "children": [
        "IPY_MODEL_98c9e62790e74acbb5135fa4e593de7e",
        "IPY_MODEL_ebe2bbceb53847eca8f0fd79deeb57e8",
        "IPY_MODEL_abcd9acde02747b89b39cabfacefbfec"
       ],
       "layout": "IPY_MODEL_ff4c45e35482434381e9f09c93171a34"
      }
     },
     "560db69b2f8a45ce94f36f2c535e00ba": {
      "model_module": "@jupyter-widgets/controls",
      "model_module_version": "1.5.0",
      "model_name": "DescriptionStyleModel",
      "state": {
       "_model_module": "@jupyter-widgets/controls",
       "_model_module_version": "1.5.0",
       "_model_name": "DescriptionStyleModel",
       "_view_count": null,
       "_view_module": "@jupyter-widgets/base",
       "_view_module_version": "1.2.0",
       "_view_name": "StyleView",
       "description_width": ""
      }
     },
     "568457ec002d4e7480ff1141aa37dce4": {
      "model_module": "@jupyter-widgets/base",
      "model_module_version": "1.2.0",
      "model_name": "LayoutModel",
      "state": {
       "_model_module": "@jupyter-widgets/base",
       "_model_module_version": "1.2.0",
       "_model_name": "LayoutModel",
       "_view_count": null,
       "_view_module": "@jupyter-widgets/base",
       "_view_module_version": "1.2.0",
       "_view_name": "LayoutView",
       "align_content": null,
       "align_items": null,
       "align_self": null,
       "border": null,
       "bottom": null,
       "display": null,
       "flex": null,
       "flex_flow": null,
       "grid_area": null,
       "grid_auto_columns": null,
       "grid_auto_flow": null,
       "grid_auto_rows": null,
       "grid_column": null,
       "grid_gap": null,
       "grid_row": null,
       "grid_template_areas": null,
       "grid_template_columns": null,
       "grid_template_rows": null,
       "height": null,
       "justify_content": null,
       "justify_items": null,
       "left": null,
       "margin": null,
       "max_height": null,
       "max_width": null,
       "min_height": null,
       "min_width": null,
       "object_fit": null,
       "object_position": null,
       "order": null,
       "overflow": null,
       "overflow_x": null,
       "overflow_y": null,
       "padding": null,
       "right": null,
       "top": null,
       "visibility": null,
       "width": null
      }
     },
     "71e16428505d4ac7a8cd665427d5459f": {
      "model_module": "@jupyter-widgets/controls",
      "model_module_version": "1.5.0",
      "model_name": "DescriptionStyleModel",
      "state": {
       "_model_module": "@jupyter-widgets/controls",
       "_model_module_version": "1.5.0",
       "_model_name": "DescriptionStyleModel",
       "_view_count": null,
       "_view_module": "@jupyter-widgets/base",
       "_view_module_version": "1.2.0",
       "_view_name": "StyleView",
       "description_width": ""
      }
     },
     "7c107c4036314ecd83e7713daf899215": {
      "model_module": "@jupyter-widgets/base",
      "model_module_version": "1.2.0",
      "model_name": "LayoutModel",
      "state": {
       "_model_module": "@jupyter-widgets/base",
       "_model_module_version": "1.2.0",
       "_model_name": "LayoutModel",
       "_view_count": null,
       "_view_module": "@jupyter-widgets/base",
       "_view_module_version": "1.2.0",
       "_view_name": "LayoutView",
       "align_content": null,
       "align_items": null,
       "align_self": null,
       "border": null,
       "bottom": null,
       "display": null,
       "flex": null,
       "flex_flow": null,
       "grid_area": null,
       "grid_auto_columns": null,
       "grid_auto_flow": null,
       "grid_auto_rows": null,
       "grid_column": null,
       "grid_gap": null,
       "grid_row": null,
       "grid_template_areas": null,
       "grid_template_columns": null,
       "grid_template_rows": null,
       "height": null,
       "justify_content": null,
       "justify_items": null,
       "left": null,
       "margin": null,
       "max_height": null,
       "max_width": null,
       "min_height": null,
       "min_width": null,
       "object_fit": null,
       "object_position": null,
       "order": null,
       "overflow": null,
       "overflow_x": null,
       "overflow_y": null,
       "padding": null,
       "right": null,
       "top": null,
       "visibility": null,
       "width": null
      }
     },
     "854d2147b56048ed88a99cdf600b7559": {
      "model_module": "@jupyter-widgets/controls",
      "model_module_version": "1.5.0",
      "model_name": "HBoxModel",
      "state": {
       "_dom_classes": [],
       "_model_module": "@jupyter-widgets/controls",
       "_model_module_version": "1.5.0",
       "_model_name": "HBoxModel",
       "_view_count": null,
       "_view_module": "@jupyter-widgets/controls",
       "_view_module_version": "1.5.0",
       "_view_name": "HBoxView",
       "box_style": "",
       "children": [
        "IPY_MODEL_b2ae8fb264ed4955a59b53a9d4f0912e",
        "IPY_MODEL_f315fd95ebe24b02890a6fa53d19f885",
        "IPY_MODEL_19a602b9e42f49148d6b7998f0bfd17c"
       ],
       "layout": "IPY_MODEL_7c107c4036314ecd83e7713daf899215"
      }
     },
     "891a74bb093049b8b917501df83b68e0": {
      "model_module": "@jupyter-widgets/controls",
      "model_module_version": "1.5.0",
      "model_name": "DescriptionStyleModel",
      "state": {
       "_model_module": "@jupyter-widgets/controls",
       "_model_module_version": "1.5.0",
       "_model_name": "DescriptionStyleModel",
       "_view_count": null,
       "_view_module": "@jupyter-widgets/base",
       "_view_module_version": "1.2.0",
       "_view_name": "StyleView",
       "description_width": ""
      }
     },
     "98c9e62790e74acbb5135fa4e593de7e": {
      "model_module": "@jupyter-widgets/controls",
      "model_module_version": "1.5.0",
      "model_name": "HTMLModel",
      "state": {
       "_dom_classes": [],
       "_model_module": "@jupyter-widgets/controls",
       "_model_module_version": "1.5.0",
       "_model_name": "HTMLModel",
       "_view_count": null,
       "_view_module": "@jupyter-widgets/controls",
       "_view_module_version": "1.5.0",
       "_view_name": "HTMLView",
       "description": "",
       "description_tooltip": null,
       "layout": "IPY_MODEL_568457ec002d4e7480ff1141aa37dce4",
       "placeholder": "​",
       "style": "IPY_MODEL_71e16428505d4ac7a8cd665427d5459f",
       "value": " 70%"
      }
     },
     "abcd9acde02747b89b39cabfacefbfec": {
      "model_module": "@jupyter-widgets/controls",
      "model_module_version": "1.5.0",
      "model_name": "HTMLModel",
      "state": {
       "_dom_classes": [],
       "_model_module": "@jupyter-widgets/controls",
       "_model_module_version": "1.5.0",
       "_model_name": "HTMLModel",
       "_view_count": null,
       "_view_module": "@jupyter-widgets/controls",
       "_view_module_version": "1.5.0",
       "_view_name": "HTMLView",
       "description": "",
       "description_tooltip": null,
       "layout": "IPY_MODEL_e119d2407a9b4c76a76c65ee0cedf94d",
       "placeholder": "​",
       "style": "IPY_MODEL_560db69b2f8a45ce94f36f2c535e00ba",
       "value": " 7/10 [02:37&lt;01:07, 22.47s/epoch, loss=0.0803, accuracy=0.973, val_loss=0.77, val_accuracy=0.74]"
      }
     },
     "b2ae8fb264ed4955a59b53a9d4f0912e": {
      "model_module": "@jupyter-widgets/controls",
      "model_module_version": "1.5.0",
      "model_name": "HTMLModel",
      "state": {
       "_dom_classes": [],
       "_model_module": "@jupyter-widgets/controls",
       "_model_module_version": "1.5.0",
       "_model_name": "HTMLModel",
       "_view_count": null,
       "_view_module": "@jupyter-widgets/controls",
       "_view_module_version": "1.5.0",
       "_view_name": "HTMLView",
       "description": "",
       "description_tooltip": null,
       "layout": "IPY_MODEL_377156b3a5f44489853b2dbd8324a1e8",
       "placeholder": "​",
       "style": "IPY_MODEL_b8fbfdbd36b441e28f92fb3d2cbadfd4",
       "value": " 70%"
      }
     },
     "b8fbfdbd36b441e28f92fb3d2cbadfd4": {
      "model_module": "@jupyter-widgets/controls",
      "model_module_version": "1.5.0",
      "model_name": "DescriptionStyleModel",
      "state": {
       "_model_module": "@jupyter-widgets/controls",
       "_model_module_version": "1.5.0",
       "_model_name": "DescriptionStyleModel",
       "_view_count": null,
       "_view_module": "@jupyter-widgets/base",
       "_view_module_version": "1.2.0",
       "_view_name": "StyleView",
       "description_width": ""
      }
     },
     "ce7803e5595b41c1aa9242abac10813c": {
      "model_module": "@jupyter-widgets/controls",
      "model_module_version": "1.5.0",
      "model_name": "ProgressStyleModel",
      "state": {
       "_model_module": "@jupyter-widgets/controls",
       "_model_module_version": "1.5.0",
       "_model_name": "ProgressStyleModel",
       "_view_count": null,
       "_view_module": "@jupyter-widgets/base",
       "_view_module_version": "1.2.0",
       "_view_name": "StyleView",
       "bar_color": null,
       "description_width": ""
      }
     },
     "d65c50b58de34dd1a6990751c3f309dd": {
      "model_module": "@jupyter-widgets/controls",
      "model_module_version": "1.5.0",
      "model_name": "ProgressStyleModel",
      "state": {
       "_model_module": "@jupyter-widgets/controls",
       "_model_module_version": "1.5.0",
       "_model_name": "ProgressStyleModel",
       "_view_count": null,
       "_view_module": "@jupyter-widgets/base",
       "_view_module_version": "1.2.0",
       "_view_name": "StyleView",
       "bar_color": null,
       "description_width": ""
      }
     },
     "d670915f370b44f39d8ca09220085c4f": {
      "model_module": "@jupyter-widgets/base",
      "model_module_version": "1.2.0",
      "model_name": "LayoutModel",
      "state": {
       "_model_module": "@jupyter-widgets/base",
       "_model_module_version": "1.2.0",
       "_model_name": "LayoutModel",
       "_view_count": null,
       "_view_module": "@jupyter-widgets/base",
       "_view_module_version": "1.2.0",
       "_view_name": "LayoutView",
       "align_content": null,
       "align_items": null,
       "align_self": null,
       "border": null,
       "bottom": null,
       "display": null,
       "flex": null,
       "flex_flow": null,
       "grid_area": null,
       "grid_auto_columns": null,
       "grid_auto_flow": null,
       "grid_auto_rows": null,
       "grid_column": null,
       "grid_gap": null,
       "grid_row": null,
       "grid_template_areas": null,
       "grid_template_columns": null,
       "grid_template_rows": null,
       "height": null,
       "justify_content": null,
       "justify_items": null,
       "left": null,
       "margin": null,
       "max_height": null,
       "max_width": null,
       "min_height": null,
       "min_width": null,
       "object_fit": null,
       "object_position": null,
       "order": null,
       "overflow": null,
       "overflow_x": null,
       "overflow_y": null,
       "padding": null,
       "right": null,
       "top": null,
       "visibility": null,
       "width": null
      }
     },
     "e119d2407a9b4c76a76c65ee0cedf94d": {
      "model_module": "@jupyter-widgets/base",
      "model_module_version": "1.2.0",
      "model_name": "LayoutModel",
      "state": {
       "_model_module": "@jupyter-widgets/base",
       "_model_module_version": "1.2.0",
       "_model_name": "LayoutModel",
       "_view_count": null,
       "_view_module": "@jupyter-widgets/base",
       "_view_module_version": "1.2.0",
       "_view_name": "LayoutView",
       "align_content": null,
       "align_items": null,
       "align_self": null,
       "border": null,
       "bottom": null,
       "display": null,
       "flex": null,
       "flex_flow": null,
       "grid_area": null,
       "grid_auto_columns": null,
       "grid_auto_flow": null,
       "grid_auto_rows": null,
       "grid_column": null,
       "grid_gap": null,
       "grid_row": null,
       "grid_template_areas": null,
       "grid_template_columns": null,
       "grid_template_rows": null,
       "height": null,
       "justify_content": null,
       "justify_items": null,
       "left": null,
       "margin": null,
       "max_height": null,
       "max_width": null,
       "min_height": null,
       "min_width": null,
       "object_fit": null,
       "object_position": null,
       "order": null,
       "overflow": null,
       "overflow_x": null,
       "overflow_y": null,
       "padding": null,
       "right": null,
       "top": null,
       "visibility": null,
       "width": null
      }
     },
     "e590d802b5714b9195281d821c11c013": {
      "model_module": "@jupyter-widgets/base",
      "model_module_version": "1.2.0",
      "model_name": "LayoutModel",
      "state": {
       "_model_module": "@jupyter-widgets/base",
       "_model_module_version": "1.2.0",
       "_model_name": "LayoutModel",
       "_view_count": null,
       "_view_module": "@jupyter-widgets/base",
       "_view_module_version": "1.2.0",
       "_view_name": "LayoutView",
       "align_content": null,
       "align_items": null,
       "align_self": null,
       "border": null,
       "bottom": null,
       "display": null,
       "flex": null,
       "flex_flow": null,
       "grid_area": null,
       "grid_auto_columns": null,
       "grid_auto_flow": null,
       "grid_auto_rows": null,
       "grid_column": null,
       "grid_gap": null,
       "grid_row": null,
       "grid_template_areas": null,
       "grid_template_columns": null,
       "grid_template_rows": null,
       "height": null,
       "justify_content": null,
       "justify_items": null,
       "left": null,
       "margin": null,
       "max_height": null,
       "max_width": null,
       "min_height": null,
       "min_width": null,
       "object_fit": null,
       "object_position": null,
       "order": null,
       "overflow": null,
       "overflow_x": null,
       "overflow_y": null,
       "padding": null,
       "right": null,
       "top": null,
       "visibility": null,
       "width": null
      }
     },
     "ebe2bbceb53847eca8f0fd79deeb57e8": {
      "model_module": "@jupyter-widgets/controls",
      "model_module_version": "1.5.0",
      "model_name": "FloatProgressModel",
      "state": {
       "_dom_classes": [],
       "_model_module": "@jupyter-widgets/controls",
       "_model_module_version": "1.5.0",
       "_model_name": "FloatProgressModel",
       "_view_count": null,
       "_view_module": "@jupyter-widgets/controls",
       "_view_module_version": "1.5.0",
       "_view_name": "ProgressView",
       "bar_style": "danger",
       "description": "",
       "description_tooltip": null,
       "layout": "IPY_MODEL_e590d802b5714b9195281d821c11c013",
       "max": 10.0,
       "min": 0.0,
       "orientation": "horizontal",
       "style": "IPY_MODEL_d65c50b58de34dd1a6990751c3f309dd",
       "value": 7.0
      }
     },
     "f315fd95ebe24b02890a6fa53d19f885": {
      "model_module": "@jupyter-widgets/controls",
      "model_module_version": "1.5.0",
      "model_name": "FloatProgressModel",
      "state": {
       "_dom_classes": [],
       "_model_module": "@jupyter-widgets/controls",
       "_model_module_version": "1.5.0",
       "_model_name": "FloatProgressModel",
       "_view_count": null,
       "_view_module": "@jupyter-widgets/controls",
       "_view_module_version": "1.5.0",
       "_view_name": "ProgressView",
       "bar_style": "danger",
       "description": "",
       "description_tooltip": null,
       "layout": "IPY_MODEL_d670915f370b44f39d8ca09220085c4f",
       "max": 10.0,
       "min": 0.0,
       "orientation": "horizontal",
       "style": "IPY_MODEL_ce7803e5595b41c1aa9242abac10813c",
       "value": 7.0
      }
     },
     "ff4c45e35482434381e9f09c93171a34": {
      "model_module": "@jupyter-widgets/base",
      "model_module_version": "1.2.0",
      "model_name": "LayoutModel",
      "state": {
       "_model_module": "@jupyter-widgets/base",
       "_model_module_version": "1.2.0",
       "_model_name": "LayoutModel",
       "_view_count": null,
       "_view_module": "@jupyter-widgets/base",
       "_view_module_version": "1.2.0",
       "_view_name": "LayoutView",
       "align_content": null,
       "align_items": null,
       "align_self": null,
       "border": null,
       "bottom": null,
       "display": null,
       "flex": null,
       "flex_flow": null,
       "grid_area": null,
       "grid_auto_columns": null,
       "grid_auto_flow": null,
       "grid_auto_rows": null,
       "grid_column": null,
       "grid_gap": null,
       "grid_row": null,
       "grid_template_areas": null,
       "grid_template_columns": null,
       "grid_template_rows": null,
       "height": null,
       "justify_content": null,
       "justify_items": null,
       "left": null,
       "margin": null,
       "max_height": null,
       "max_width": null,
       "min_height": null,
       "min_width": null,
       "object_fit": null,
       "object_position": null,
       "order": null,
       "overflow": null,
       "overflow_x": null,
       "overflow_y": null,
       "padding": null,
       "right": null,
       "top": null,
       "visibility": null,
       "width": null
      }
     }
    },
    "version_major": 2,
    "version_minor": 0
   }
  }
 },
 "nbformat": 4,
 "nbformat_minor": 5
}
